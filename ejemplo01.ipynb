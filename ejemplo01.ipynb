{
 "cells": [
  {
   "cell_type": "code",
   "execution_count": 1,
   "id": "33403a0b-d93b-45b2-9488-8a6e9ffab48d",
   "metadata": {},
   "outputs": [],
   "source": [
    "import json"
   ]
  },
  {
   "cell_type": "code",
   "execution_count": 2,
   "id": "3993fcc9-d2ac-4983-822e-3b84f2df49b4",
   "metadata": {},
   "outputs": [],
   "source": [
    "texto = \"\"\"\n",
    "{ \n",
    "  \"first_name\" : \"Sammy\",\n",
    "  \"last_name\" : \"Shark\",\n",
    "  \"location\" : \"Ocean\",\n",
    "  \"websites\" : [\n",
    "    {\n",
    "      \"description\" : \"work\",\n",
    "      \"URL\" : \"https://www.digitalocean.com/\"\n",
    "    },\n",
    "    {\n",
    "      \"desciption\" : \"tutorials\",\n",
    "      \"URL\" : \"https://www.digitalocean.com/community/tutorials\"\n",
    "    }\n",
    "  ],\n",
    "  \"social_media\" : [\n",
    "    {\n",
    "      \"description\" : \"twitter\",\n",
    "      \"link\" : \"https://twitter.com/digitalocean\"\n",
    "    },\n",
    "    {\n",
    "      \"description\" : \"facebook\",\n",
    "      \"link\" : \"https://www.facebook.com/DigitalOceanCloudHosting\"\n",
    "    },\n",
    "    {\n",
    "      \"description\" : \"github\",\n",
    "      \"link\" : \"https://github.com/digitalocean\"\n",
    "    }\n",
    "  ]\n",
    "}\n",
    "\n",
    "\"\"\""
   ]
  },
  {
   "cell_type": "code",
   "execution_count": 3,
   "id": "fa50a1ce-07fc-4f79-955a-28cc2d137fad",
   "metadata": {},
   "outputs": [
    {
     "name": "stdout",
     "output_type": "stream",
     "text": [
      "\n",
      "{ \n",
      "  \"first_name\" : \"Sammy\",\n",
      "  \"last_name\" : \"Shark\",\n",
      "  \"location\" : \"Ocean\",\n",
      "  \"websites\" : [\n",
      "    {\n",
      "      \"description\" : \"work\",\n",
      "      \"URL\" : \"https://www.digitalocean.com/\"\n",
      "    },\n",
      "    {\n",
      "      \"desciption\" : \"tutorials\",\n",
      "      \"URL\" : \"https://www.digitalocean.com/community/tutorials\"\n",
      "    }\n",
      "  ],\n",
      "  \"social_media\" : [\n",
      "    {\n",
      "      \"description\" : \"twitter\",\n",
      "      \"link\" : \"https://twitter.com/digitalocean\"\n",
      "    },\n",
      "    {\n",
      "      \"description\" : \"facebook\",\n",
      "      \"link\" : \"https://www.facebook.com/DigitalOceanCloudHosting\"\n",
      "    },\n",
      "    {\n",
      "      \"description\" : \"github\",\n",
      "      \"link\" : \"https://github.com/digitalocean\"\n",
      "    }\n",
      "  ]\n",
      "}\n",
      "\n",
      "\n"
     ]
    }
   ],
   "source": [
    "print(texto)"
   ]
  },
  {
   "cell_type": "code",
   "execution_count": 4,
   "id": "b07e2b2b-e4ba-4ad5-aa61-7107e023067f",
   "metadata": {},
   "outputs": [],
   "source": [
    "datos = json.loads(texto)"
   ]
  },
  {
   "cell_type": "code",
   "execution_count": 5,
   "id": "8c1fe6fd-5bda-45cb-80e3-51e897c1d4d5",
   "metadata": {},
   "outputs": [
    {
     "data": {
      "text/plain": [
       "{'first_name': 'Sammy',\n",
       " 'last_name': 'Shark',\n",
       " 'location': 'Ocean',\n",
       " 'websites': [{'description': 'work', 'URL': 'https://www.digitalocean.com/'},\n",
       "  {'desciption': 'tutorials',\n",
       "   'URL': 'https://www.digitalocean.com/community/tutorials'}],\n",
       " 'social_media': [{'description': 'twitter',\n",
       "   'link': 'https://twitter.com/digitalocean'},\n",
       "  {'description': 'facebook',\n",
       "   'link': 'https://www.facebook.com/DigitalOceanCloudHosting'},\n",
       "  {'description': 'github', 'link': 'https://github.com/digitalocean'}]}"
      ]
     },
     "execution_count": 5,
     "metadata": {},
     "output_type": "execute_result"
    }
   ],
   "source": [
    "datos"
   ]
  },
  {
   "cell_type": "code",
   "execution_count": 6,
   "id": "965104c1-7abe-47f2-9e73-87018a58c963",
   "metadata": {},
   "outputs": [
    {
     "data": {
      "text/plain": [
       "dict_keys(['first_name', 'last_name', 'location', 'websites', 'social_media'])"
      ]
     },
     "execution_count": 6,
     "metadata": {},
     "output_type": "execute_result"
    }
   ],
   "source": [
    "datos.keys()"
   ]
  },
  {
   "cell_type": "code",
   "execution_count": 8,
   "id": "41c5316a-f258-4075-a125-7a2fee0b3bd4",
   "metadata": {},
   "outputs": [
    {
     "name": "stdout",
     "output_type": "stream",
     "text": [
      "Sammy\n"
     ]
    }
   ],
   "source": [
    "print(datos['first_name'])"
   ]
  },
  {
   "cell_type": "code",
   "execution_count": 9,
   "id": "78a83ea7-c494-4904-9323-e84076de6c4f",
   "metadata": {},
   "outputs": [
    {
     "name": "stdout",
     "output_type": "stream",
     "text": [
      "[{'description': 'work', 'URL': 'https://www.digitalocean.com/'}, {'desciption': 'tutorials', 'URL': 'https://www.digitalocean.com/community/tutorials'}]\n"
     ]
    }
   ],
   "source": [
    "print(datos['websites'])"
   ]
  },
  {
   "cell_type": "code",
   "execution_count": 10,
   "id": "8495f675-1a30-4055-b786-88ff15aca9e4",
   "metadata": {},
   "outputs": [
    {
     "name": "stdout",
     "output_type": "stream",
     "text": [
      "Sammy\n",
      "Shark\n",
      "Ocean\n",
      "[{'description': 'work', 'URL': 'https://www.digitalocean.com/'}, {'desciption': 'tutorials', 'URL': 'https://www.digitalocean.com/community/tutorials'}]\n",
      "[{'description': 'twitter', 'link': 'https://twitter.com/digitalocean'}, {'description': 'facebook', 'link': 'https://www.facebook.com/DigitalOceanCloudHosting'}, {'description': 'github', 'link': 'https://github.com/digitalocean'}]\n"
     ]
    }
   ],
   "source": [
    "for d in datos.keys():\n",
    "    print(datos[d])"
   ]
  }
 ],
 "metadata": {
  "kernelspec": {
   "display_name": "Python 3 (ipykernel)",
   "language": "python",
   "name": "python3"
  },
  "language_info": {
   "codemirror_mode": {
    "name": "ipython",
    "version": 3
   },
   "file_extension": ".py",
   "mimetype": "text/x-python",
   "name": "python",
   "nbconvert_exporter": "python",
   "pygments_lexer": "ipython3",
   "version": "3.10.12"
  }
 },
 "nbformat": 4,
 "nbformat_minor": 5
}

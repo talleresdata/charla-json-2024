{
 "cells": [
  {
   "cell_type": "code",
   "execution_count": 28,
   "id": "33403a0b-d93b-45b2-9488-8a6e9ffab48d",
   "metadata": {},
   "outputs": [],
   "source": [
    "import pandas as pd\n",
    "import json"
   ]
  },
  {
   "cell_type": "code",
   "execution_count": 17,
   "id": "1d44dd00-b236-4e70-9b67-ff3c2b4417ec",
   "metadata": {},
   "outputs": [],
   "source": [
    "# data = pd.read_json(\"https://jsonplaceholder.typicode.com/posts\")"
   ]
  },
  {
   "cell_type": "code",
   "execution_count": 29,
   "id": "c9af826a-bab1-464c-8f85-e7ea4b310c2f",
   "metadata": {},
   "outputs": [],
   "source": [
    "data = pd.read_json(\"datos/CountryCodes.json\")"
   ]
  },
  {
   "cell_type": "code",
   "execution_count": 30,
   "id": "965104c1-7abe-47f2-9e73-87018a58c963",
   "metadata": {},
   "outputs": [
    {
     "data": {
      "text/html": [
       "<div>\n",
       "<style scoped>\n",
       "    .dataframe tbody tr th:only-of-type {\n",
       "        vertical-align: middle;\n",
       "    }\n",
       "\n",
       "    .dataframe tbody tr th {\n",
       "        vertical-align: top;\n",
       "    }\n",
       "\n",
       "    .dataframe thead th {\n",
       "        text-align: right;\n",
       "    }\n",
       "</style>\n",
       "<table border=\"1\" class=\"dataframe\">\n",
       "  <thead>\n",
       "    <tr style=\"text-align: right;\">\n",
       "      <th></th>\n",
       "      <th>name</th>\n",
       "      <th>dial_code</th>\n",
       "      <th>code</th>\n",
       "    </tr>\n",
       "  </thead>\n",
       "  <tbody>\n",
       "    <tr>\n",
       "      <th>0</th>\n",
       "      <td>Afghanistan</td>\n",
       "      <td>+93</td>\n",
       "      <td>AF</td>\n",
       "    </tr>\n",
       "    <tr>\n",
       "      <th>1</th>\n",
       "      <td>Aland Islands</td>\n",
       "      <td>+358</td>\n",
       "      <td>AX</td>\n",
       "    </tr>\n",
       "    <tr>\n",
       "      <th>2</th>\n",
       "      <td>Albania</td>\n",
       "      <td>+355</td>\n",
       "      <td>AL</td>\n",
       "    </tr>\n",
       "    <tr>\n",
       "      <th>3</th>\n",
       "      <td>Algeria</td>\n",
       "      <td>+213</td>\n",
       "      <td>DZ</td>\n",
       "    </tr>\n",
       "    <tr>\n",
       "      <th>4</th>\n",
       "      <td>AmericanSamoa</td>\n",
       "      <td>+1684</td>\n",
       "      <td>AS</td>\n",
       "    </tr>\n",
       "    <tr>\n",
       "      <th>...</th>\n",
       "      <td>...</td>\n",
       "      <td>...</td>\n",
       "      <td>...</td>\n",
       "    </tr>\n",
       "    <tr>\n",
       "      <th>237</th>\n",
       "      <td>Virgin Islands, U.S.</td>\n",
       "      <td>+1340</td>\n",
       "      <td>VI</td>\n",
       "    </tr>\n",
       "    <tr>\n",
       "      <th>238</th>\n",
       "      <td>Wallis and Futuna</td>\n",
       "      <td>+681</td>\n",
       "      <td>WF</td>\n",
       "    </tr>\n",
       "    <tr>\n",
       "      <th>239</th>\n",
       "      <td>Yemen</td>\n",
       "      <td>+967</td>\n",
       "      <td>YE</td>\n",
       "    </tr>\n",
       "    <tr>\n",
       "      <th>240</th>\n",
       "      <td>Zambia</td>\n",
       "      <td>+260</td>\n",
       "      <td>ZM</td>\n",
       "    </tr>\n",
       "    <tr>\n",
       "      <th>241</th>\n",
       "      <td>Zimbabwe</td>\n",
       "      <td>+263</td>\n",
       "      <td>ZW</td>\n",
       "    </tr>\n",
       "  </tbody>\n",
       "</table>\n",
       "<p>242 rows × 3 columns</p>\n",
       "</div>"
      ],
      "text/plain": [
       "                     name dial_code code\n",
       "0             Afghanistan       +93   AF\n",
       "1           Aland Islands      +358   AX\n",
       "2                 Albania      +355   AL\n",
       "3                 Algeria      +213   DZ\n",
       "4           AmericanSamoa     +1684   AS\n",
       "..                    ...       ...  ...\n",
       "237  Virgin Islands, U.S.     +1340   VI\n",
       "238     Wallis and Futuna      +681   WF\n",
       "239                 Yemen      +967   YE\n",
       "240                Zambia      +260   ZM\n",
       "241              Zimbabwe      +263   ZW\n",
       "\n",
       "[242 rows x 3 columns]"
      ]
     },
     "execution_count": 30,
     "metadata": {},
     "output_type": "execute_result"
    }
   ],
   "source": [
    "data"
   ]
  },
  {
   "cell_type": "code",
   "execution_count": 31,
   "id": "8c1fe6fd-5bda-45cb-80e3-51e897c1d4d5",
   "metadata": {},
   "outputs": [
    {
     "data": {
      "text/plain": [
       "0      AF\n",
       "1      AX\n",
       "2      AL\n",
       "3      DZ\n",
       "4      AS\n",
       "       ..\n",
       "237    VI\n",
       "238    WF\n",
       "239    YE\n",
       "240    ZM\n",
       "241    ZW\n",
       "Name: code, Length: 242, dtype: object"
      ]
     },
     "execution_count": 31,
     "metadata": {},
     "output_type": "execute_result"
    }
   ],
   "source": [
    "data['code']"
   ]
  }
 ],
 "metadata": {
  "kernelspec": {
   "display_name": "Python 3 (ipykernel)",
   "language": "python",
   "name": "python3"
  },
  "language_info": {
   "codemirror_mode": {
    "name": "ipython",
    "version": 3
   },
   "file_extension": ".py",
   "mimetype": "text/x-python",
   "name": "python",
   "nbconvert_exporter": "python",
   "pygments_lexer": "ipython3",
   "version": "3.10.12"
  }
 },
 "nbformat": 4,
 "nbformat_minor": 5
}

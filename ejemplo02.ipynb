{
 "cells": [
  {
   "cell_type": "code",
   "execution_count": 14,
   "id": "33403a0b-d93b-45b2-9488-8a6e9ffab48d",
   "metadata": {},
   "outputs": [],
   "source": [
    "import json"
   ]
  },
  {
   "cell_type": "code",
   "execution_count": 15,
   "id": "8e6b4bff-6175-4635-872d-148e03467bf6",
   "metadata": {},
   "outputs": [],
   "source": [
    "archivo = open(\"datos/misdatos.json\", \"r\")"
   ]
  },
  {
   "cell_type": "code",
   "execution_count": 16,
   "id": "e47aebce-0d5a-4303-b3c3-b9e1099de127",
   "metadata": {},
   "outputs": [],
   "source": [
    "lineas = archivo.readlines()"
   ]
  },
  {
   "cell_type": "code",
   "execution_count": 17,
   "id": "b91c5a1e-59bc-4596-bb2c-d69e585c9df7",
   "metadata": {},
   "outputs": [
    {
     "data": {
      "text/plain": [
       "'{ \"first_name\" : \"Sammy\", \"last_name\" : \"Shark\",\"location\" : \"Ocean\",\"websites\" : [{\"description\" : \"work\",\"URL\" : \"https://www.digitalocean.com/\"},{\"desciption\" : \"tutorials\",\"URL\" :\"https://www.digitalocean.com/community/tutorials\"}],\"social_media\" : [{\"description\" : \"twitter\",\"link\" : \"https://twitter.com/digitalocean\"},{\"description\" : \"facebook\",\"link\" : \"https://www.facebook.com/DigitalOceanCloudHosting\"},{\"description\" : \"github\",\"link\" : \"https://github.com/digitalocean\"}]}'"
      ]
     },
     "execution_count": 17,
     "metadata": {},
     "output_type": "execute_result"
    }
   ],
   "source": [
    "lineas[0]"
   ]
  },
  {
   "cell_type": "code",
   "execution_count": 18,
   "id": "4724beb5-6965-4946-8810-0d0ffea7562a",
   "metadata": {},
   "outputs": [
    {
     "data": {
      "text/plain": [
       "'{ \"first_name\" : \"Sammy\", \"last_name\" : \"Shark\",\"location\" : \"Ocean\",\"websites\" : [{\"description\" : \"work\",\"URL\" : \"https://www.digitalocean.com/\"},{\"desciption\" : \"tutorials\",\"URL\" :\"https://www.digitalocean.com/community/tutorials\"}],\"social_media\" : [{\"description\" : \"twitter\",\"link\" : \"https://twitter.com/digitalocean\"},{\"description\" : \"facebook\",\"link\" : \"https://www.facebook.com/DigitalOceanCloudHosting\"},{\"description\" : \"github\",\"link\" : \"https://github.com/digitalocean\"}]}'"
      ]
     },
     "execution_count": 18,
     "metadata": {},
     "output_type": "execute_result"
    }
   ],
   "source": [
    "lineas[0]"
   ]
  },
  {
   "cell_type": "code",
   "execution_count": 19,
   "id": "3993fcc9-d2ac-4983-822e-3b84f2df49b4",
   "metadata": {},
   "outputs": [],
   "source": [
    "texto = lineas[0]"
   ]
  },
  {
   "cell_type": "code",
   "execution_count": 20,
   "id": "fa50a1ce-07fc-4f79-955a-28cc2d137fad",
   "metadata": {},
   "outputs": [
    {
     "name": "stdout",
     "output_type": "stream",
     "text": [
      "{ \"first_name\" : \"Sammy\", \"last_name\" : \"Shark\",\"location\" : \"Ocean\",\"websites\" : [{\"description\" : \"work\",\"URL\" : \"https://www.digitalocean.com/\"},{\"desciption\" : \"tutorials\",\"URL\" :\"https://www.digitalocean.com/community/tutorials\"}],\"social_media\" : [{\"description\" : \"twitter\",\"link\" : \"https://twitter.com/digitalocean\"},{\"description\" : \"facebook\",\"link\" : \"https://www.facebook.com/DigitalOceanCloudHosting\"},{\"description\" : \"github\",\"link\" : \"https://github.com/digitalocean\"}]}\n"
     ]
    }
   ],
   "source": [
    "print(texto)"
   ]
  },
  {
   "cell_type": "code",
   "execution_count": 21,
   "id": "b07e2b2b-e4ba-4ad5-aa61-7107e023067f",
   "metadata": {},
   "outputs": [],
   "source": [
    "datos = json.loads(texto)"
   ]
  },
  {
   "cell_type": "code",
   "execution_count": 22,
   "id": "8c1fe6fd-5bda-45cb-80e3-51e897c1d4d5",
   "metadata": {},
   "outputs": [
    {
     "data": {
      "text/plain": [
       "{'first_name': 'Sammy',\n",
       " 'last_name': 'Shark',\n",
       " 'location': 'Ocean',\n",
       " 'websites': [{'description': 'work', 'URL': 'https://www.digitalocean.com/'},\n",
       "  {'desciption': 'tutorials',\n",
       "   'URL': 'https://www.digitalocean.com/community/tutorials'}],\n",
       " 'social_media': [{'description': 'twitter',\n",
       "   'link': 'https://twitter.com/digitalocean'},\n",
       "  {'description': 'facebook',\n",
       "   'link': 'https://www.facebook.com/DigitalOceanCloudHosting'},\n",
       "  {'description': 'github', 'link': 'https://github.com/digitalocean'}]}"
      ]
     },
     "execution_count": 22,
     "metadata": {},
     "output_type": "execute_result"
    }
   ],
   "source": [
    "datos"
   ]
  },
  {
   "cell_type": "code",
   "execution_count": 23,
   "id": "965104c1-7abe-47f2-9e73-87018a58c963",
   "metadata": {},
   "outputs": [
    {
     "data": {
      "text/plain": [
       "dict_keys(['first_name', 'last_name', 'location', 'websites', 'social_media'])"
      ]
     },
     "execution_count": 23,
     "metadata": {},
     "output_type": "execute_result"
    }
   ],
   "source": [
    "datos.keys()"
   ]
  }
 ],
 "metadata": {
  "kernelspec": {
   "display_name": "Python 3 (ipykernel)",
   "language": "python",
   "name": "python3"
  },
  "language_info": {
   "codemirror_mode": {
    "name": "ipython",
    "version": 3
   },
   "file_extension": ".py",
   "mimetype": "text/x-python",
   "name": "python",
   "nbconvert_exporter": "python",
   "pygments_lexer": "ipython3",
   "version": "3.10.12"
  }
 },
 "nbformat": 4,
 "nbformat_minor": 5
}
